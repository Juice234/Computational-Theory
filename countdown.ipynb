{
 "cells": [
  {
   "cell_type": "markdown",
   "metadata": {},
   "source": [
    "## The Numbers Game \n",
    "\n",
    "The Numbers Game is a segment from the television show Countdown, the objective of the games is to reach a randombly generated number between 101 and 999 using a combination of six chosen numbers. These six numbers are chosen by the contestants, they do not get to choose the exact number but reather get to choose from \"BIG\" numbers (25,50,75,100) and \"SMALL\" numbers(1-10), they are not limited by the combination of big and small numbers meaning they can choose only big numbers or only small numbers.\n",
    "\n",
    "Once the numbers are chosen, the game generates the target numbers which is within 101-999. The contestants are then given 30 seconds to solve for the target number using the previously chosen six numbers, they can preform basic arithmetic operations - addition, subtraction, multiplication and division with one rule being that all numbers resulting from these operations must be whole numbers, the contestants can only use each number once weather its from the six initial numbers or the ones resulting from the arthimatic operations.\n",
    "\n",
    "The challenge of the not only lies in calculating the path to the target number in the time limit but also adhereing to the rules of the game: whole number results and a single use of each number, the game tests the contestants arthmetic skills, speed, strategic thinking and quick calculations skills."
   ]
  },
  {
   "cell_type": "markdown",
   "metadata": {},
   "source": [
    "## Computational Complexity of The Game\n",
    "The computational complexity of The Numbers Game from Countdown involves examining all possible operations and combinations that can be created from six chosen numbers to reach a target number. The complexity arises from several factors:\n",
    "\n",
    "### Combination of Numbers\n",
    "The initial choice of six numbers from a pool of \"BIG\" and \"SMALL\" numbers creates the starting array of numbers available for use. This choice marks the beginning of the computational complexity in solving for the target number. Why is this complex? Assuming the six numbers there are 720 ways to order these numbers and given five slots between each of those there are 1024 ways to assign an opperation to each slot between the numbers this gives us 737,280 different combitnations of just six numbers and operations, this count does not even include the use of parentheses; for instance, '(a+b)\\*c' is different from 'a+(b\\*c)'. Thus, the actual number of possible combinations is significantly larger. However, determining the exact number is challenging because one of the game's rules is that each operation must result in a whole number.\n",
    "\n",
    "### Permutations of Operations\n",
    "The choice and sequence of operations adds a layer of complexity. Each number can be combined with another using any of the four operations, remembering that the resulting operation must be a whole number and once the two numbers are combined they can be then used with the remaining numbers which increases the total possibilites exponentially as the choice of which numbers are taken and the choice of which operations are made plays a sigificant role in the lead to the solution where computationally some operation my not be viable in order to reach the solution but will be tested by an algorithm anyway.\n",
    "\n",
    "\n",
    "### Logic/Human Factor\n",
    "Another layer of computational complexity is the human logic factor. People do not think like brute-force algorithms, which attempt to force a solution. Instead, they employ strategies to solve problems, such as identifying patterns among the numbers to find a clear solution. For example, if the six numbers are 2, 100, 75, 3, and 5, and the target is 200, the most logical solution is 2\\*100, which results in 200. Humans also eliminate numbers that will not lead to the answer; using the previous example, there is no point in exploring combinations involving 3, 5, and 2, as they will not come close to the target.\n",
    "\n",
    "### Impossible Solutions\n",
    "Another aspect to consider is impossible solutions, or combinations of numbers that will not work. This includes dividing numbers that would result in a fraction or number combinations that produce the same result e.g., 2 \\* 3 and 3 \\* 2 are the same but consume processing time.\n",
    "\n",
    "### Pruning techniques\n",
    "So if brute forcing the problem is not viable what are ways we can improve the process? We can incorporate alpha-beta pruning this involves eliminting branches which cannot lead to the final solution for example if we go over the target number and have explored further division operations there is no point in trying to solve for the problem the same can be applied if the resulting operation is a fraction as further operations will simply not lead to the solution. This can be used in conjunction with backtracking which explores possible solutions and abandons paths which will not lead to a solution by going back a step to try a different a path(operation)\n"
   ]
  },
  {
   "cell_type": "markdown",
   "metadata": {},
   "source": [
    "## Aproach to solving the game\n",
    "\n",
    "Using what we learned about the countdowwn game and its computational complaexity its time to create a python solution to solve the game.\n",
    "\n",
    "### \n",
    "\n",
    "We will not be using RPN(revers polish notation) as its implementation is not very easy and it creates additional implementation complexity so i will use INFIX notation as its easier to read and work with as its princiaples are similar to the way humans read and think.\n",
    "\n",
    "So the solution will may not be the most optimal for the countdown game but will be less complex and easier to read and work with while still hopefully providing a timely solution.\n",
    "\n",
    "\n"
   ]
  },
  {
   "cell_type": "markdown",
   "metadata": {},
   "source": [
    "The first aproach to the game is creating a function which will begin the calculation for the all key value pairs which will be a crucial stepping stone in solving the countdown game as it will provide the core logic to itterating over each pair.\n",
    "\n",
    "The setup to the function generates a random number between 101 and 999 followed by selecting between 0 and 4 big numbers nad the rest being small numbers,\n",
    "\n",
    "The functions generae_ operations takes the numbers and perfoms all arithemtic operations on them, this inital setup shows proof of concept for generationg all operations for the pairs of selected numbers, with the current limitation being that the operation are only done for the selected and nummbers and the results of said operation are anot included for further calculations\n",
    "\n",
    "The scirpt utlizes post fix notation as implementeing infix such as Reverse Polish notation may prove to be benefeitial in terms of ospeed and extectuiton but the implenmetation ism ore complex and not as easy for humans to read "
   ]
  },
  {
   "cell_type": "code",
   "execution_count": 5,
   "metadata": {},
   "outputs": [
    {
     "name": "stdout",
     "output_type": "stream",
     "text": [
      "933\n"
     ]
    },
    {
     "data": {
      "text/plain": [
       "[('100 + 25', 125),\n",
       " ('100 - 25', 75),\n",
       " ('100 * 25', 2500),\n",
       " ('100 / 25', 4),\n",
       " ('100 + 75', 175),\n",
       " ('100 - 75', 25),\n",
       " ('100 * 75', 7500),\n",
       " ('100 + 50', 150),\n",
       " ('100 - 50', 50),\n",
       " ('100 * 50', 5000),\n",
       " ('100 / 50', 2),\n",
       " ('100 + 5', 105),\n",
       " ('100 - 5', 95),\n",
       " ('100 * 5', 500),\n",
       " ('100 / 5', 20),\n",
       " ('100 + 8', 108),\n",
       " ('100 - 8', 92),\n",
       " ('100 * 8', 800),\n",
       " ('25 + 75', 100),\n",
       " ('75 - 25', 50),\n",
       " ('25 * 75', 1875),\n",
       " ('75 / 25', 3),\n",
       " ('25 + 50', 75),\n",
       " ('50 - 25', 25),\n",
       " ('25 * 50', 1250),\n",
       " ('50 / 25', 2),\n",
       " ('25 + 5', 30),\n",
       " ('25 - 5', 20),\n",
       " ('25 * 5', 125),\n",
       " ('25 / 5', 5),\n",
       " ('25 + 8', 33),\n",
       " ('25 - 8', 17),\n",
       " ('25 * 8', 200),\n",
       " ('75 + 50', 125),\n",
       " ('75 - 50', 25),\n",
       " ('75 * 50', 3750),\n",
       " ('75 + 5', 80),\n",
       " ('75 - 5', 70),\n",
       " ('75 * 5', 375),\n",
       " ('75 / 5', 15),\n",
       " ('75 + 8', 83),\n",
       " ('75 - 8', 67),\n",
       " ('75 * 8', 600),\n",
       " ('50 + 5', 55),\n",
       " ('50 - 5', 45),\n",
       " ('50 * 5', 250),\n",
       " ('50 / 5', 10),\n",
       " ('50 + 8', 58),\n",
       " ('50 - 8', 42),\n",
       " ('50 * 8', 400),\n",
       " ('5 + 8', 13),\n",
       " ('8 - 5', 3),\n",
       " ('5 * 8', 40)]"
      ]
     },
     "execution_count": 5,
     "metadata": {},
     "output_type": "execute_result"
    }
   ],
   "source": [
    "import random \n",
    "\n",
    "\n",
    "target = random.randint(101,999)\n",
    "print(target)\n",
    "large_numbers = [25,50,75,100]\n",
    "small_numbers = list(range(1, 11)) * 2\n",
    "num_large_numbers = random.randint(0, 4)\n",
    "num_small_numbers = 6 - num_large_numbers\n",
    "selected_large_numbers = random.sample(large_numbers, num_large_numbers)\n",
    "selected_small_numbers = random.sample(small_numbers, num_small_numbers)\n",
    "combined_numbers = selected_large_numbers + selected_small_numbers\n",
    "\n",
    "def generate_operations(nums):\n",
    "\n",
    "    operations = []\n",
    "    \n",
    "    # Iterate over all unique pairs\n",
    "    for i in range(len(nums)):\n",
    "        for j in range(i + 1, len(nums)):\n",
    "            a, b = nums[i], nums[j]\n",
    "\n",
    "            # Addition\n",
    "            operations.append((f'{a} + {b}', a + b))\n",
    "\n",
    "            # Subtraction (avoiding negative results)\n",
    "            if a > b:\n",
    "                operations.append((f'{a} - {b}', a - b))\n",
    "            elif b > a:\n",
    "                operations.append((f'{b} - {a}', b - a))\n",
    "\n",
    "            # Multiplication\n",
    "            operations.append((f'{a} * {b}', a * b))\n",
    "\n",
    "            # Division (avoiding division by zero and fractions)\n",
    "            if a != 0 and b % a == 0:\n",
    "                operations.append((f'{b} / {a}', b // a))\n",
    "            if b != 0 and a % b == 0:\n",
    "                operations.append((f'{a} / {b}', a // b))\n",
    "\n",
    "    return operations\n",
    "\n",
    "# Generating operations for all pairs in the list\n",
    "all_operations = generate_operations(combined_numbers)\n",
    "all_operations\n"
   ]
  },
  {
   "cell_type": "code",
   "execution_count": 13,
   "metadata": {},
   "outputs": [
    {
     "name": "stdout",
     "output_type": "stream",
     "text": [
      "Execution time of original script (infix notation): 7.140000161598437e-05\n",
      "Execution time of RPN script (postfix notation): 6.690000009257346e-05\n"
     ]
    }
   ],
   "source": []
  },
  {
   "cell_type": "markdown",
   "metadata": {},
   "source": [
    "### Initial setup of the game\n",
    "\n",
    "We will start by generating the target number between 101 and 999 altough this is not how its done in the acutal game for our example it shouldnt matter, we will just trust the algorithm wont peak at it!\n",
    "\n",
    "Next we will randomly select big and small numbers which will be between 0-4 big numbers and the rest will be small numbers so the total will be 6.\n",
    "\n",
    "\n",
    "Here's how the logic was adapted in the second program:\n",
    "\n",
    "Refactoring for Modularity: The second program introduced modularity by breaking down the functionality into smaller, more manageable functions. This makes the code easier to understand, maintain, and debug.\n",
    "Function for Evaluating Operations: Instead of directly generating all possible operations, the second program introduced a function evaluate_operation to evaluate the result of a given arithmetic operation. This function takes two operands and an operator and returns the result along with a string representation of the operation.\n",
    "Recursive Approach for Finding Solutions: The second program adopted a recursive approach to find the closest solution to the target. It iterates through all possible pairs of numbers and arithmetic operations, recursively evaluating each combination until a solution is found or all possibilities are exhausted.\n",
    "Early Exit Optimization: The second program introduced an optimization by implementing an early exit mechanism. It stops the recursive search as soon as an exact solution is found, improving efficiency by avoiding unnecessary computations.\n",
    "Dynamic Handling of Division: The second program dynamically checks the validity of division operations to avoid division by zero or operations resulting in fractions. This ensures that only valid operations are considered during the search process.\n",
    "Overall, the second program maintained the core idea of generating arithmetic operations using a set of numbers to find the closest solution to a target. However, it enhanced the approach by restructuring the code for better modularity, introducing recursion for efficient search, and optimizing the search process for better performance."
   ]
  },
  {
   "cell_type": "code",
   "execution_count": 4,
   "metadata": {},
   "outputs": [
    {
     "name": "stdout",
     "output_type": "stream",
     "text": [
      "Target: 206\n",
      "Selected Numbers: [25, 75, 8, 2, 9, 4]\n",
      "Solution Operations: (2 * ((8 - 9) + (4 + (25 + 75))))\n",
      "Closest Difference: 0\n"
     ]
    }
   ],
   "source": [
    "import random\n",
    "\n",
    "def evaluate_operation(a, b, op):\n",
    "    if op == '+': return a + b, f\"({a} + {b})\"\n",
    "    elif op == '-': return a - b, f\"({a} - {b})\"\n",
    "    elif op == '*': return a * b, f\"({a} * {b})\"\n",
    "    elif op == '/': return a // b, f\"({a} / {b})\"\n",
    "\n",
    "def solve_numbers(numbers, target):\n",
    "    if len(numbers) == 1:\n",
    "        return abs(target - numbers[0]), str(numbers[0])\n",
    "\n",
    "    best_diff = float('inf')\n",
    "    best_solution = \"\"\n",
    "\n",
    "    for i in range(len(numbers)):\n",
    "        for j in range(i + 1, len(numbers)):\n",
    "            for op in ['+', '-', '*', '/']:\n",
    "                # Check division validity\n",
    "                if op == '/' and (numbers[j] == 0 or numbers[i] % numbers[j] != 0):\n",
    "                    continue\n",
    "                \n",
    "                result, operation_str = evaluate_operation(numbers[i], numbers[j], op)\n",
    "                new_numbers = numbers[:i] + numbers[i+1:j] + numbers[j+1:] + [result]\n",
    "                \n",
    "                diff, solution_str = solve_numbers(new_numbers, target)\n",
    "                \n",
    "                if diff < best_diff:\n",
    "                    best_diff = diff\n",
    "                    best_solution = operation_str if len(new_numbers) == 1 else solution_str.replace(str(result), operation_str, 1)\n",
    "                \n",
    "                # Early exit if exact match found\n",
    "                if best_diff == 0:\n",
    "                    return best_diff, best_solution\n",
    "\n",
    "    return best_diff, best_solution\n",
    "\n",
    "# Initial setup\n",
    "target = random.randint(101, 999)\n",
    "large_numbers = [25, 50, 75, 100]\n",
    "small_numbers = list(range(1, 11)) * 2\n",
    "num_large_numbers = random.randint(0, 4)\n",
    "num_small_numbers = 6 - num_large_numbers\n",
    "selected_large_numbers = random.sample(large_numbers, num_large_numbers)\n",
    "selected_small_numbers = random.sample(small_numbers, num_small_numbers)\n",
    "combined_numbers = selected_large_numbers + selected_small_numbers\n",
    "\n",
    "# Find the closest solution and the operations used to achieve it\n",
    "closest_diff, solution_operations = solve_numbers(combined_numbers, target)\n",
    "\n",
    "print(f\"Target: {target}\")\n",
    "print(f\"Selected Numbers: {combined_numbers}\")\n",
    "print(f\"Solution Operations: {solution_operations}\")\n",
    "print(f\"Closest Difference: {closest_diff}\")\n"
   ]
  },
  {
   "cell_type": "markdown",
   "metadata": {},
   "source": [
    "References:\n",
    "\n",
    "- [Datagenetics Blog](http://datagenetics.com/blog/august32014/index.html)\n",
    "- [Computerphile YouTube Video](https://www.youtube.com/watch?v=cVMhkqPP2YI&t=614s&ab_channel=Computerphile)\n",
    "- [Countdown Problem Solving Paper](https://www.cs.nott.ac.uk/~pszgmh/countdown.pdf)\n",
    "- [EasyChair Publication](https://easychair.org/publications/open/2L76)\n",
    "- [AISB50 Colton Paper](https://doc.gold.ac.uk/aisb50/AISB50-S02/AISB50-S2-Colton-paper.pdf)\n",
    "- [Polish Countdown Study](https://www.ttested.com/polish-countdown/)\n"
   ]
  }
 ],
 "metadata": {
  "kernelspec": {
   "display_name": "base",
   "language": "python",
   "name": "python3"
  },
  "language_info": {
   "codemirror_mode": {
    "name": "ipython",
    "version": 3
   },
   "file_extension": ".py",
   "mimetype": "text/x-python",
   "name": "python",
   "nbconvert_exporter": "python",
   "pygments_lexer": "ipython3",
   "version": "3.11.5"
  }
 },
 "nbformat": 4,
 "nbformat_minor": 2
}
