{
 "cells": [
  {
   "cell_type": "markdown",
   "metadata": {},
   "source": [
    "### The Numbers Game \n",
    "\n",
    "The numbers game is a mini-game from the tv show Countdown, the objective of the game is as follows a contestant chooses six numbers which  can either be big numbers which are 25,50,75,100 or small numbers which are between 1 and 10 the contestant doesnt choose the specific number rahter states weather they want a large of small number, after 6 numbers are selected the computer generates the target number which is between 101-999 then the contestants have 30 seconds to use basic arithmatic operations which are addition,subtraction, multiplication and division in order to get as close as possible to the target number ,the resultuing numbers from each of these operations must be a whole number and each number can only be used once "
   ]
  },
  {
   "cell_type": "code",
   "execution_count": 2,
   "metadata": {},
   "outputs": [
    {
     "name": "stdout",
     "output_type": "stream",
     "text": [
      "371\n"
     ]
    },
    {
     "data": {
      "text/plain": [
       "[('100 + 6', 106),\n",
       " ('100 - 6', 94),\n",
       " ('100 * 6', 600),\n",
       " ('100 + 2', 102),\n",
       " ('100 - 2', 98),\n",
       " ('100 * 2', 200),\n",
       " ('100 / 2', 50),\n",
       " ('100 + 10', 110),\n",
       " ('100 - 10', 90),\n",
       " ('100 * 10', 1000),\n",
       " ('100 / 10', 10),\n",
       " ('100 + 5', 105),\n",
       " ('100 - 5', 95),\n",
       " ('100 * 5', 500),\n",
       " ('100 / 5', 20),\n",
       " ('100 + 3', 103),\n",
       " ('100 - 3', 97),\n",
       " ('100 * 3', 300),\n",
       " ('6 + 2', 8),\n",
       " ('6 - 2', 4),\n",
       " ('6 * 2', 12),\n",
       " ('6 / 2', 3),\n",
       " ('6 + 10', 16),\n",
       " ('10 - 6', 4),\n",
       " ('6 * 10', 60),\n",
       " ('6 + 5', 11),\n",
       " ('6 - 5', 1),\n",
       " ('6 * 5', 30),\n",
       " ('6 + 3', 9),\n",
       " ('6 - 3', 3),\n",
       " ('6 * 3', 18),\n",
       " ('6 / 3', 2),\n",
       " ('2 + 10', 12),\n",
       " ('10 - 2', 8),\n",
       " ('2 * 10', 20),\n",
       " ('10 / 2', 5),\n",
       " ('2 + 5', 7),\n",
       " ('5 - 2', 3),\n",
       " ('2 * 5', 10),\n",
       " ('2 + 3', 5),\n",
       " ('3 - 2', 1),\n",
       " ('2 * 3', 6),\n",
       " ('10 + 5', 15),\n",
       " ('10 - 5', 5),\n",
       " ('10 * 5', 50),\n",
       " ('10 / 5', 2),\n",
       " ('10 + 3', 13),\n",
       " ('10 - 3', 7),\n",
       " ('10 * 3', 30),\n",
       " ('5 + 3', 8),\n",
       " ('5 - 3', 2),\n",
       " ('5 * 3', 15)]"
      ]
     },
     "execution_count": 2,
     "metadata": {},
     "output_type": "execute_result"
    }
   ],
   "source": [
    "import random \n",
    "target = random.randint(101,999)\n",
    "print(target)\n",
    "\n",
    "large_numbers = [25,50,75,100]\n",
    "small_numbers = list(range(1, 11)) * 2\n",
    "\n",
    "num_large_numbers = random.randint(0, 4)\n",
    "\n",
    "num_small_numbers = 6 - num_large_numbers\n",
    "\n",
    "selected_large_numbers = random.sample(large_numbers, num_large_numbers)\n",
    "selected_small_numbers = random.sample(small_numbers, num_small_numbers)\n",
    "\n",
    "combined_numbers = selected_large_numbers + selected_small_numbers\n",
    "\n",
    "def generate_operations_for_all_pairs(nums):\n",
    "\n",
    "    operations = []\n",
    "    \n",
    "    # Iterate over all unique pairs\n",
    "    for i in range(len(nums)):\n",
    "        for j in range(i + 1, len(nums)):\n",
    "            a, b = nums[i], nums[j]\n",
    "\n",
    "            # Addition\n",
    "            operations.append((f'{a} + {b}', a + b))\n",
    "\n",
    "            # Subtraction (avoiding negative results)\n",
    "            if a > b:\n",
    "                operations.append((f'{a} - {b}', a - b))\n",
    "            elif b > a:\n",
    "                operations.append((f'{b} - {a}', b - a))\n",
    "\n",
    "            # Multiplication\n",
    "            operations.append((f'{a} * {b}', a * b))\n",
    "\n",
    "            # Division (avoiding division by zero and fractions)\n",
    "            if a != 0 and b % a == 0:\n",
    "                operations.append((f'{b} / {a}', b // a))\n",
    "            if b != 0 and a % b == 0:\n",
    "                operations.append((f'{a} / {b}', a // b))\n",
    "\n",
    "    return operations\n",
    "\n",
    "# Generating operations for all pairs in the list\n",
    "all_operations = generate_operations_for_all_pairs(combined_numbers)\n",
    "all_operations\n",
    "\n"
   ]
  }
 ],
 "metadata": {
  "language_info": {
   "name": "python"
  }
 },
 "nbformat": 4,
 "nbformat_minor": 2
}
